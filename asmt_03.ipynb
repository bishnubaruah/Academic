{
  "metadata": {
    "kernelspec": {
      "name": "python",
      "display_name": "Python (Pyodide)",
      "language": "python"
    },
    "language_info": {
      "codemirror_mode": {
        "name": "python",
        "version": 3
      },
      "file_extension": ".py",
      "mimetype": "text/x-python",
      "name": "python",
      "nbconvert_exporter": "python",
      "pygments_lexer": "ipython3",
      "version": "3.8"
    }
  },
  "nbformat_minor": 5,
  "nbformat": 4,
  "cells": [
    {
      "id": "5f5a2320-e9f4-4c45-be4f-30da0feb561b",
      "cell_type": "markdown",
      "source": "####################################\n# Assignment No. : 3\n# Date: 00/09/2025\n# Name: Bishnu Prasad BAruah\n# Roll No. : 256121007\n# Email: b.baruah@iitg.ac.in\n#####################################",
      "metadata": {}
    },
    {
      "id": "dc14794d-b0f7-4d7a-8067-5a90fcf1cef2",
      "cell_type": "code",
      "source": "import numpy as np\nmat_a = np.array([[3,-0.1,-0.2],\n              [0.1,7,-0.3],\n              [0.3,-0.2,10]], dtype=float)\nmat_b = np.array([[7.85],\n              [-19.3],\n              [71.4]], dtype = float)",
      "metadata": {
        "trusted": true
      },
      "outputs": [],
      "execution_count": 3
    },
    {
      "id": "e5b847e9-0fae-4944-93e2-741f291187a7",
      "cell_type": "markdown",
      "source": "## QUESTION #1",
      "metadata": {}
    },
    {
      "id": "44a538fc-85c6-4f48-92f6-691c041c3688",
      "cell_type": "code",
      "source": "def naive_gauss(c,d):\n    a,b = np.copy(c) , np.copy(d)\n    \n    ## -------FORWARD ELEMINATION ---###\n    n = len(a)\n    for k in range(n-1):\n        for i in range(k+1,n):\n            factor = (a[i][k])/(a[k][k])\n            for j in range(n):\n                a[i][j] = a[i][j] - factor*a[k][j]\n            b[i] = b[i] - b[k]*factor\n\n    ## --------------------------------##\n    \n    ## -------BACKWARD SUBSTITUTION ---###\n    x = np.zeros((n,1), dtype = float)\n    x[n-1] = (b[n-1])/(a[n-1][n-1])\n    for i in range(n-2,-1,-1):\n        sum = b[i]\n        for j in range(i+1,n):\n            sum = sum - a[i][j]*x[j]\n        x[i] = sum/a[i][i]\n    ##-----------------------------------##\n    return x",
      "metadata": {
        "trusted": true
      },
      "outputs": [],
      "execution_count": 4
    },
    {
      "id": "99eaecbf-113c-4b27-a0da-7eb85be5e54a",
      "cell_type": "code",
      "source": "result = naive_gauss(mat_a,mat_b)\nresult",
      "metadata": {
        "trusted": true
      },
      "outputs": [
        {
          "execution_count": 5,
          "output_type": "execute_result",
          "data": {
            "text/plain": "array([[ 3. ],\n       [-2.5],\n       [ 7. ]])"
          },
          "metadata": {}
        }
      ],
      "execution_count": 5
    },
    {
      "id": "bef329fa-64a8-4910-9ed3-3d891cfa537f",
      "cell_type": "markdown",
      "source": "## QUESTION #2",
      "metadata": {}
    },
    {
      "id": "43974121-c0b2-4129-b34e-e87a3f09920a",
      "cell_type": "code",
      "source": "def L_U_decomp(c):\n    A = np.copy(c)\n    n = len(A)\n    \n    ####-============--UPPER TRIANGULAR-&-LOWER TRIANGULAR=============-####\n    L = np.identity(n)  ##-----------identity matrix------------###\n    \n    for k in range(n-1): #row iteration\n        for i in range(k+1,n): #column iteration\n            factor = (A[i][k])/(A[k][k])\n            \n            L[i][k] = factor   \n            for j in range(n):  #all column iteration\n                A[i][j] = A[i][j] - factor*A[k][j]  #i = row, j = column\n    U = A\n    return L,U\n    ###=====================================================###",
      "metadata": {
        "trusted": true
      },
      "outputs": [],
      "execution_count": 6
    },
    {
      "id": "b2cd8622-9f32-40b9-95c2-81f5ae597ea1",
      "cell_type": "code",
      "source": "L, U = L_U_decomp(mat_a)",
      "metadata": {
        "trusted": true
      },
      "outputs": [],
      "execution_count": 7
    },
    {
      "id": "a5cca1f6-3792-453e-9166-fbdf35261381",
      "cell_type": "code",
      "source": "def forwardsubs(a,b):  ##---LD=B------Finding D  matrix\n    L = np.copy(a)\n    B = np.copy(b)\n    n = len(L)\n    D = np.zeros((n,1),dtype = float)\n    count = 0\n    for i in range(n):\n        dog = B[i]\n        if count >0:\n            cat = 0\n            for j in range(i):\n                cat = cat + L[i][j]*D[j]\n                #print(cat)\n            dog = B[i] - cat\n        D[i] = dog\n        count = count + 1\n    return D",
      "metadata": {
        "trusted": true
      },
      "outputs": [],
      "execution_count": 8
    },
    {
      "id": "3223c76b-d40e-42d5-b937-48268a1a1fdf",
      "cell_type": "code",
      "source": "D = forwardsubs(L,mat_b)",
      "metadata": {
        "trusted": true
      },
      "outputs": [],
      "execution_count": 9
    },
    {
      "id": "c99ece41-8442-4d6e-8be3-e52d82360b27",
      "cell_type": "code",
      "source": "##--========--- USE OF UX=D TO EVALUATE X-----==========##\ndef backward_substitution(c,d):\n    a,b = np.copy(c), np.copy(d)\n    n=len(a)\n    x = np.zeros((n,1), dtype = float)\n    x[n-1] = (b[n-1])/(a[n-1][n-1])\n    for i in range(n-2,-1,-1):\n        sum = b[i]\n        for j in range(i+1,n):\n            sum = sum - a[i][j]*x[j]\n        x[i] = sum/a[i][i]\n    return x",
      "metadata": {
        "trusted": true
      },
      "outputs": [],
      "execution_count": 10
    },
    {
      "id": "c7c031d6-6237-4812-85b8-3d383dc53f56",
      "cell_type": "code",
      "source": "backward_substitution(U,D)",
      "metadata": {
        "trusted": true
      },
      "outputs": [
        {
          "execution_count": 11,
          "output_type": "execute_result",
          "data": {
            "text/plain": "array([[ 3. ],\n       [-2.5],\n       [ 7. ]])"
          },
          "metadata": {}
        }
      ],
      "execution_count": 11
    },
    {
      "id": "595ea348-65f0-4fce-b34f-02538495d4f9",
      "cell_type": "markdown",
      "source": "## INVERSE MATRIX CALCULATION",
      "metadata": {}
    },
    {
      "id": "45b2c063-c3ff-42b3-b884-41755de53645",
      "cell_type": "code",
      "source": "##===----------inverse matrix creation==========\ndef inverse(m):\n    A = np.copy(m)\n    n = len(A)\n\n    ####-============--UPPER TRIANGULAR-&-LOWER TRIANGULAR=============-####\n    L = np.identity(n)  ##-----------identity matrix------------###\n    \n    for k in range(n-1): #row iteration\n        for i in range(k+1,n): #column iteration\n            factor = (A[i][k])/(A[k][k])\n            \n            L[i][k] = factor   \n            for j in range(n):  #all column iteration\n                A[i][j] = A[i][j] - factor*A[k][j]  #i = row, j = column\n    U = A\n    #return L,U\n    ###=====================================================###\n\n\n    \n    inv = np.zeros((n,n),dtype = float)  ##---==EMPTY INVERSE MATRIX----\n\n    ##---Creation of a matrix that contains columns of identity matrix as elements\n    v = []\n    matrix = np.identity(n)\n    for i in range(n):\n        B = np.reshape(matrix[:,i],(n,1))\n        v.append(B)\n    BB =  v   \n    #======-------------------===================-----------------==========\n    \n    for k in range(n):     \n        B = BB[k]      ##-<<==----====== SELECT A NEW COLUMN FOR EACH K ====---###\n        \n        ##----===========CREATION OF D MATRIX FOR EACH COLUMN==============----##\n        D = np.zeros((n,1),dtype = float)\n        count = 0\n        for i in range(n):\n            dog = B[i]\n            if count >0:\n                cat = 0\n                for j in range(i):\n                    cat = cat + L[i][j]*D[j]\n                    #print(cat)\n                dog = B[i] - cat\n            D[i] = dog\n            count = count + 1\n        ##----========----====================================------=====----##\n\n        \n        ##----======CREATION OF COLUMN OF INVERSE MATRIX--USING---UX=D---====###\n        #===========-----------backward_substitution(U,D)\n        a,b = np.copy(U), np.copy(D)\n        n=len(a)\n        x = np.zeros((n,1), dtype = float)\n        x[n-1] = (b[n-1])/(a[n-1][n-1])\n        for i in range(n-2,-1,-1):\n            sum = b[i]\n            for j in range(i+1,n):\n                sum = sum - a[i][j]*x[j]\n            x[i] = sum/a[i][i]\n        third =  x\n        ##----========----=====================================------=====----##\n\n        \n        inv[:,k] = third.T   #[:,2] == : means all rows, column 2 => all rows of coumn 2\n    return inv            # since it select all rows of a particular column, the input must be a row matrix to replace the \n                                 #elements of that column ==> so taking transpose\n",
      "metadata": {
        "trusted": true
      },
      "outputs": [],
      "execution_count": 12
    },
    {
      "id": "61b45845-1aa8-47d5-a0f1-02abbe621aea",
      "cell_type": "code",
      "source": "inverse(mat_a)",
      "metadata": {
        "trusted": true
      },
      "outputs": [
        {
          "execution_count": 13,
          "output_type": "execute_result",
          "data": {
            "text/plain": "array([[ 0.33248872,  0.00494407,  0.0067981 ],\n       [-0.00518177,  0.14290264,  0.00418344],\n       [-0.0100783 ,  0.00270973,  0.09987973]])"
          },
          "metadata": {}
        }
      ],
      "execution_count": 13
    },
    {
      "id": "c5467b89-ca62-42c1-b74a-139dcf8768ba",
      "cell_type": "code",
      "source": "##---===--CROSS-CHECK--USING--NUMPY----======###\nnp.linalg.inv(mat_a)\n##---=======-------------========--===========###",
      "metadata": {
        "trusted": true
      },
      "outputs": [
        {
          "execution_count": 14,
          "output_type": "execute_result",
          "data": {
            "text/plain": "array([[ 0.33248872,  0.00494407,  0.0067981 ],\n       [-0.00518177,  0.14290264,  0.00418344],\n       [-0.0100783 ,  0.00270973,  0.09987973]])"
          },
          "metadata": {}
        }
      ],
      "execution_count": 14
    },
    {
      "id": "e5a5f525-b98f-4065-98fb-98133cbacb2e",
      "cell_type": "code",
      "source": "",
      "metadata": {
        "trusted": true
      },
      "outputs": [],
      "execution_count": null
    }
  ]
}