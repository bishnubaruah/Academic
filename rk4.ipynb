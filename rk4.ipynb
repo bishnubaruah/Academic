{
 "cells": [
  {
   "cell_type": "code",
   "execution_count": 3,
   "id": "d4403fdd",
   "metadata": {},
   "outputs": [],
   "source": [
    "#RK4 METHOD\n",
    "#k functions\n",
    "\n",
    "def kvalues(x,y,h,fun): #x:initial, y:initial, h:stepsize, fun:function\n",
    "    a,b=x,y\n",
    "    k1 = fun(a,b)\n",
    "\n",
    "    a = x+h/2\n",
    "    b = y+(k1*h)/2\n",
    "    k2 = fun(a,b)\n",
    "\n",
    "    a = x+h/2\n",
    "    b = y+(k2*h)/2\n",
    "    k3 =fun(a,b)\n",
    "\n",
    "    a = x+h\n",
    "    b = y+(k3*h)\n",
    "    k4 = fun(a,b)\n",
    "    \n",
    "    return k1,k2,k3,k4\n",
    "\n",
    "def nexty(y,k1,k2,k3,k4,h):              # y:initial\n",
    "    return y+(h/6)*(k1+2*k2+2*k3+k4)"
   ]
  },
  {
   "cell_type": "code",
   "execution_count": 32,
   "id": "f38e4645",
   "metadata": {},
   "outputs": [],
   "source": [
    "# derivative functions\n",
    "\n",
    "def fun1(x,y):\n",
    "    return -0.5*y\n",
    "\n",
    "def fun2(x,y):\n",
    "    return 4-0.3*y-0.1*y\n",
    "\n",
    "h = 0.5 # step size\n",
    "\n",
    "#k1,k2,k3,k4 = kvalues(0,4,0.5,fun1)\n",
    "#nexty(4,k1,k2,k3,k4,0.5)"
   ]
  },
  {
   "cell_type": "code",
   "execution_count": 33,
   "id": "6e16290d",
   "metadata": {},
   "outputs": [
    {
     "name": "stdout",
     "output_type": "stream",
     "text": [
      "x_values   k11    k21    k31    k41    y_1        k12    k22    k32    k42    y_2\n",
      "------------------------------------------------------------------------------------------\n",
      "0.0       -2.00  -1.75  -1.78  -1.55  3.1152      1.60   1.44   1.46   1.31   6.7251\n",
      "0.5       -1.56  -1.36  -1.39  -1.21  2.4262      1.31   1.18   1.19   1.07   7.3187\n",
      "1.0       -1.21  -1.06  -1.08  -0.94  1.8895      1.07   0.97   0.98   0.88   7.8047\n",
      "1.5       -0.94  -0.83  -0.84  -0.73  1.4716      0.88   0.79   0.80   0.72   8.2027\n",
      "2.0       -0.74  -0.64  -0.66  -0.57  1.1461      0.72   0.65   0.65   0.59   8.5285\n"
     ]
    }
   ],
   "source": [
    "print(f\"{'x_values':<10} {'k11':<7}{'k21':<7}{'k31':<7}{'k41':<7}{'y_1':<10} {'k12':<7}{'k22':<7}{'k32':<7}{'k42':<7}{'y_2'}\")  # header line\n",
    "print(\"-\" * 90)\n",
    "\n",
    "x = 0\n",
    "x0 = 0\n",
    "h = 0.5\n",
    "y10 = 4\n",
    "y20 = 6\n",
    "    \n",
    "while x<=2 :\n",
    "    k11,k21,k31,k41 = kvalues(x0,y10,h,fun1)\n",
    "    y1 = nexty(y10,k11,k21,k31,k41,h)\n",
    "    \n",
    "    k12,k22,k32,k42 = kvalues(x0,y20,h,fun2)\n",
    "    y2 = nexty(y20,k12,k22,k32,k42,h)\n",
    "    \n",
    "    rowf = \"{0:1.1f}       {1:1.2f}  {2:1.2f}  {3:1.2f}  {4:1.2f}  {5:1.4f}      {6:1.2f}   {7:1.2f}   {8:1.2f}   {9:1.2f}   {10:1.4f}\"\n",
    "    print(rowf.format(x,k11,k21,k31,k41,y1,k12,k22,k32,k42,y2))\n",
    "    \n",
    "    x0 = x0+h\n",
    "    y10 = y1\n",
    "    y20 = y2\n",
    "    \n",
    "    x+=0.5"
   ]
  },
  {
   "cell_type": "code",
   "execution_count": null,
   "id": "a9c048f2",
   "metadata": {},
   "outputs": [],
   "source": []
  },
  {
   "cell_type": "code",
   "execution_count": null,
   "id": "9c122709",
   "metadata": {},
   "outputs": [],
   "source": []
  }
 ],
 "metadata": {
  "kernelspec": {
   "display_name": "Python 3 (ipykernel)",
   "language": "python",
   "name": "python3"
  },
  "language_info": {
   "codemirror_mode": {
    "name": "ipython",
    "version": 3
   },
   "file_extension": ".py",
   "mimetype": "text/x-python",
   "name": "python",
   "nbconvert_exporter": "python",
   "pygments_lexer": "ipython3",
   "version": "3.9.12"
  }
 },
 "nbformat": 4,
 "nbformat_minor": 5
}
