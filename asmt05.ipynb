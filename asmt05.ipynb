{
  "metadata": {
    "kernelspec": {
      "name": "python",
      "display_name": "Python (Pyodide)",
      "language": "python"
    },
    "language_info": {
      "codemirror_mode": {
        "name": "python",
        "version": 3
      },
      "file_extension": ".py",
      "mimetype": "text/x-python",
      "name": "python",
      "nbconvert_exporter": "python",
      "pygments_lexer": "ipython3",
      "version": "3.8"
    }
  },
  "nbformat_minor": 5,
  "nbformat": 4,
  "cells": [
    {
      "id": "6ff71d8a",
      "cell_type": "code",
      "source": "####################################\n# Assignment No. : 5\n# Date: 17/10/2025\n# Name: Bishnu Prasad Baruah\n# Roll No. : 256121007\n# Email: b.baruah@iitg.ac.in\n#####################################",
      "metadata": {
        "trusted": true
      },
      "outputs": [],
      "execution_count": 2
    },
    {
      "id": "14f6abc8",
      "cell_type": "code",
      "source": "import numpy as np\nimport matplotlib.pyplot as plt\ndata  = np.loadtxt(\"data_asmt5_1.txt\",skiprows=1)",
      "metadata": {
        "trusted": true
      },
      "outputs": [
        {
          "name": "stderr",
          "output_type": "stream",
          "text": "Matplotlib is building the font cache; this may take a moment.\n"
        }
      ],
      "execution_count": 3
    },
    {
      "id": "fa579034",
      "cell_type": "code",
      "source": "n = len(data)",
      "metadata": {
        "trusted": true
      },
      "outputs": [],
      "execution_count": 4
    },
    {
      "id": "14c3a892",
      "cell_type": "code",
      "source": "sum_x = 0 #sum of x\nsum_xsq=0 #sum of x square\nsum_xcub = 0 #sum of x cube\nsum_xp4 = 0 #sum of x to the power 4\nfor i in data[:,0]:\n    sum_x+=i\n    sum_xsq+=i**2\n    sum_xcub+=i**3\n    sum_xp4+=i**4\nx_bar = sum_x/n",
      "metadata": {
        "trusted": true
      },
      "outputs": [],
      "execution_count": 5
    },
    {
      "id": "6648e9d8",
      "cell_type": "code",
      "source": "sum_y = 0   #sum of y data\nfor i in data[:,1]:\n    sum_y+=i\ny_bar = sum_y/n",
      "metadata": {
        "trusted": true
      },
      "outputs": [],
      "execution_count": 6
    },
    {
      "id": "8ecffead",
      "cell_type": "code",
      "source": "sum_xy = 0  #sum of the product of x and y data\nsum_xsqy = 0  # sum of the product of x square and y data\nfor i in range(n):\n    sum_xy+= data[i,0]*data[i,1]\n    sum_xsqy+= (data[i,0]**2)*data[i,1]",
      "metadata": {
        "trusted": true
      },
      "outputs": [],
      "execution_count": 7
    },
    {
      "id": "032d5dcd",
      "cell_type": "code",
      "source": "a_1 = (n*sum_xy-sum_x*sum_y)/(n*sum_xsq - sum_x**2)\na_1",
      "metadata": {
        "trusted": true
      },
      "outputs": [
        {
          "execution_count": 8,
          "output_type": "execute_result",
          "data": {
            "text/plain": "np.float64(42.21596777207091)"
          },
          "metadata": {}
        }
      ],
      "execution_count": 8
    },
    {
      "id": "91a84066",
      "cell_type": "code",
      "source": "a_0 = y_bar - a_1*x_bar\na_0   ",
      "metadata": {
        "trusted": true
      },
      "outputs": [
        {
          "execution_count": 9,
          "output_type": "execute_result",
          "data": {
            "text/plain": "np.float64(-63.252653436736836)"
          },
          "metadata": {}
        }
      ],
      "execution_count": 9
    },
    {
      "id": "902fef7c",
      "cell_type": "code",
      "source": "##Sr\nsr = 0\nfor i in range(n):\n    e = (data[i][1] - a_0 - a_1 * data[i][0])\n    sr += e**2 \nsr",
      "metadata": {
        "trusted": true
      },
      "outputs": [
        {
          "execution_count": 10,
          "output_type": "execute_result",
          "data": {
            "text/plain": "np.float64(102928.57935109915)"
          },
          "metadata": {}
        }
      ],
      "execution_count": 10
    },
    {
      "id": "1b5ddb22",
      "cell_type": "code",
      "source": "#Standard error\ns_yx = np.sqrt(sr/(n-2))\ns_yx",
      "metadata": {
        "trusted": true
      },
      "outputs": [
        {
          "execution_count": 11,
          "output_type": "execute_result",
          "data": {
            "text/plain": "np.float64(32.244109845180596)"
          },
          "metadata": {}
        }
      ],
      "execution_count": 11
    },
    {
      "id": "3cbea8fa-a6c5-4ea3-9d3b-bbb1b9c0367b",
      "cell_type": "code",
      "source": "#total sum of squares around the mean\nst = 0\nfor i in range(n):\n    st+=(data[i][1] - y_bar)**2",
      "metadata": {
        "trusted": true
      },
      "outputs": [],
      "execution_count": 12
    },
    {
      "id": "8b229645",
      "cell_type": "code",
      "source": "#correlation coeficient\nr = (st-sr)/st\nr",
      "metadata": {
        "trusted": true
      },
      "outputs": [
        {
          "execution_count": 13,
          "output_type": "execute_result",
          "data": {
            "text/plain": "np.float64(0.9369672043074769)"
          },
          "metadata": {}
        }
      ],
      "execution_count": 13
    },
    {
      "id": "3679a886",
      "cell_type": "code",
      "source": "##calculated data\nc_data = []\nfor i in range(n):\n    c_data.append(a_0 + a_1 * data[i][0])",
      "metadata": {
        "trusted": true
      },
      "outputs": [],
      "execution_count": 14
    },
    {
      "id": "c68662be",
      "cell_type": "code",
      "source": "plt.figure(figsize=(8, 4), dpi=100) \nplt.scatter(data[:,0],data[:,1], s = 15, label='measured data')\nplt.plot(data[:,0], c_data, color='red', label='straightline fit')\nplt.tight_layout()\nplt.legend()\nplt.grid()",
      "metadata": {
        "trusted": true
      },
      "outputs": [
        {
          "output_type": "display_data",
          "data": {
            "text/plain": "<Figure size 800x400 with 1 Axes>",
            "image/png": "[encoded data removed]"
          },
          "metadata": {}
        }
      ],
      "execution_count": 15
    },
    {
      "id": "f0de187c-8e5c-4042-b131-a75d3aef5cb7",
      "cell_type": "markdown",
      "source": "## polynomial fit",
      "metadata": {}
    },
    {
      "id": "201d8d9d-4e99-4823-9547-574c3fe66f2c",
      "cell_type": "code",
      "source": "mata = np.array([[n, sum_x, sum_xsq],\n                [sum_x, sum_xsq, sum_xcub],\n                [sum_xsq, sum_xcub, sum_xp4]])",
      "metadata": {
        "trusted": true
      },
      "outputs": [],
      "execution_count": 16
    },
    {
      "id": "25cf3e1e-33d0-41fb-ac2a-3f169a091a36",
      "cell_type": "code",
      "source": "matb = np.array([[sum_y],[sum_xy],[sum_xsqy]])",
      "metadata": {
        "trusted": true
      },
      "outputs": [],
      "execution_count": 17
    },
    {
      "id": "8fdb7d65-2071-4098-93b7-f79a54c597cf",
      "cell_type": "code",
      "source": "matb",
      "metadata": {
        "trusted": true
      },
      "outputs": [
        {
          "execution_count": 18,
          "output_type": "execute_result",
          "data": {
            "text/plain": "array([[ 14930.54572779],\n       [110895.13697125],\n       [885821.42495238]])"
          },
          "metadata": {}
        }
      ],
      "execution_count": 18
    },
    {
      "id": "37e6a2d4-6355-48fe-ade7-306ec9746e6b",
      "cell_type": "code",
      "source": "def L_U_decomp(c):\n    A = np.copy(c)\n    n = len(A)\n    \n    ####-============--UPPER TRIANGULAR-&-LOWER TRIANGULAR=============-####\n    L = np.identity(n)  ##-----------identity matrix------------###\n    \n    for k in range(n-1): #row iteration\n        for i in range(k+1,n): #column iteration\n            factor = (A[i][k])/(A[k][k])\n            \n            L[i][k] = factor   \n            for j in range(n):  #all column iteration\n                A[i][j] = A[i][j] - factor*A[k][j]  #i = row, j = column\n    U = A\n    return L,U\n    ###=====================================================###",
      "metadata": {
        "trusted": true
      },
      "outputs": [],
      "execution_count": 19
    },
    {
      "id": "014c742b-f576-476c-8d8b-25539fe0fa0e",
      "cell_type": "code",
      "source": "L,U = L_U_decomp(mata)",
      "metadata": {
        "trusted": true
      },
      "outputs": [],
      "execution_count": 20
    },
    {
      "id": "d8d5696c-d645-44f1-aa5c-0b5f444248c0",
      "cell_type": "code",
      "source": "def forwardsubs(a,b):  ##---LD=B------Finding D  matrix\n    L = np.copy(a)\n    B = np.copy(b)\n    n = len(L)\n    D = np.zeros((n,1),dtype = float)\n    count = 0\n    for i in range(n):\n        dog = B[i]\n        if count >0:\n            cat = 0\n            for j in range(i):\n                cat = cat + L[i][j]*D[j]\n                #print(cat)\n            dog = B[i] - cat\n        D[i] = dog\n        count = count + 1\n    return D",
      "metadata": {
        "trusted": true
      },
      "outputs": [],
      "execution_count": 21
    },
    {
      "id": "499d4b9d-c1da-48ad-ae6a-5e7684971e0a",
      "cell_type": "code",
      "source": "D = forwardsubs(L,matb)",
      "metadata": {
        "trusted": true
      },
      "outputs": [],
      "execution_count": 22
    },
    {
      "id": "74c166e6-dd5b-46b8-b42b-b32fb2a89a0b",
      "cell_type": "code",
      "source": "##--========--- USE OF UX=D TO EVALUATE X-----==========##\ndef backward_substitution(c,d):\n    a,b = np.copy(c), np.copy(d)\n    n=len(a)\n    x = np.zeros((n,1), dtype = float)\n    x[n-1] = (b[n-1])/(a[n-1][n-1])\n    for i in range(n-2,-1,-1):\n        sum = b[i]\n        for j in range(i+1,n):\n            sum = sum - a[i][j]*x[j]\n        x[i] = sum/a[i][i]\n    return x",
      "metadata": {
        "trusted": true
      },
      "outputs": [],
      "execution_count": 23
    },
    {
      "id": "8017007e-0514-464d-820a-640a46e6d94d",
      "cell_type": "code",
      "source": "matc = backward_substitution(U,D)",
      "metadata": {
        "trusted": true
      },
      "outputs": [],
      "execution_count": 24
    },
    {
      "id": "fbf1dfde-61af-4d1f-9d1f-a60ff86f31ca",
      "cell_type": "code",
      "source": "A_0,A_1,A_2 = matc[0],matc[1],matc[2]",
      "metadata": {
        "trusted": true
      },
      "outputs": [],
      "execution_count": 25
    },
    {
      "id": "32c8377a-3fdf-4a17-aaff-321699324b69",
      "cell_type": "code",
      "source": "##calculated data\ncalc_data = []\nfor i in range(n):\n    calc_data.append(A_0 + A_1 * data[i][0] + A_2 * data[i][0]**2)",
      "metadata": {
        "trusted": true
      },
      "outputs": [],
      "execution_count": 27
    },
    {
      "id": "fc312677-2dbd-46ed-ac7f-e3c694f79531",
      "cell_type": "code",
      "source": "plt.figure(figsize=(8, 4), dpi=100) \nplt.scatter(data[:,0],data[:,1], s = 15, label='measured data')\nplt.plot(data[:,0], calc_data, color='red', label='polynomial fit')\nplt.tight_layout()\nplt.legend()\nplt.grid()",
      "metadata": {
        "trusted": true
      },
      "outputs": [
        {
          "output_type": "display_data",
          "data": {
            "text/plain": "<Figure size 800x400 with 1 Axes>",
            "image/png": "[encoded data removed]"
          },
          "metadata": {}
        }
      ],
      "execution_count": 28
    },
    {
      "id": "b7e433a1-2ea3-49a3-b5c6-8027cdd216b4",
      "cell_type": "code",
      "source": "##Sr\nsr2 = 0\nfor i in range(n):\n    e = (data[i][1] - A_0 - A_1 * data[i][0] - A_2*data[i][1])\n    sr2 += e**2 \nsr2",
      "metadata": {
        "trusted": true
      },
      "outputs": [
        {
          "execution_count": 29,
          "output_type": "execute_result",
          "data": {
            "text/plain": "array([35928489.38546114])"
          },
          "metadata": {}
        }
      ],
      "execution_count": 29
    },
    {
      "id": "e84d40c9-bba0-4d00-a719-9a81a6fd0b6c",
      "cell_type": "code",
      "source": "#Standard error\ns_yx2 = np.sqrt(sr2/(n-3))\ns_yx2",
      "metadata": {
        "trusted": true
      },
      "outputs": [
        {
          "execution_count": 30,
          "output_type": "execute_result",
          "data": {
            "text/plain": "array([605.48925558])"
          },
          "metadata": {}
        }
      ],
      "execution_count": 30
    },
    {
      "id": "783c0b80-538e-4f6b-968c-fd8e46428954",
      "cell_type": "code",
      "source": "#correlation coeficient\nr2 = (st-sr2)/st\nr2",
      "metadata": {
        "trusted": true
      },
      "outputs": [
        {
          "execution_count": 31,
          "output_type": "execute_result",
          "data": {
            "text/plain": "array([-21.00237432])"
          },
          "metadata": {}
        }
      ],
      "execution_count": 31
    },
    {
      "id": "40ecec48-8e42-42bf-9e62-9120934a8ea1",
      "cell_type": "code",
      "source": "",
      "metadata": {
        "trusted": true
      },
      "outputs": [],
      "execution_count": null
    }
  ]
}