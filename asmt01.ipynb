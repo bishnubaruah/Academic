{
 "cells": [
  {
   "cell_type": "markdown",
   "id": "0cf3a83a",
   "metadata": {},
   "source": [
    "####################################\n",
    "# Assignment No. : 1\n",
    "# Date: 01/08/2025\n",
    "# Name: Bishnu Prasad BAruah\n",
    "# Roll No. : 256121007\n",
    "# Email: b.baruah@iitg.ac.in\n",
    "#####################################"
   ]
  },
  {
   "cell_type": "markdown",
   "id": "4802809e-0860-4a31-917b-fa16b22cfc9a",
   "metadata": {},
   "source": [
    "## Answer to question 1"
   ]
  },
  {
   "cell_type": "code",
   "execution_count": 28,
   "id": "ab5afe8c",
   "metadata": {},
   "outputs": [],
   "source": [
    "import numpy as np\n",
    "#np.set_printoptions(legacy = '1.25')\n",
    "\n",
    "def func(x):                    #definition of the function\n",
    "    f = (1-np.cos(x))/(x**2)\n",
    "    return f\n"
   ]
  },
  {
   "cell_type": "code",
   "execution_count": 11,
   "id": "8108eb2e",
   "metadata": {},
   "outputs": [
    {
     "data": {
      "text/plain": [
       "0.0001787745205097741"
      ]
     },
     "execution_count": 11,
     "metadata": {},
     "output_type": "execute_result"
    }
   ],
   "source": [
    "func(90)"
   ]
  },
  {
   "cell_type": "code",
   "execution_count": 12,
   "id": "6261b5ea",
   "metadata": {},
   "outputs": [],
   "source": [
    "x = []                          #generating grid of numbers\n",
    "for i in range(1,100):\n",
    "    x.append(0.1*i)"
   ]
  },
  {
   "cell_type": "code",
   "execution_count": 13,
   "id": "bc467772",
   "metadata": {},
   "outputs": [],
   "source": [
    "F = []                       #generating the values from the function\n",
    "for i in x:\n",
    "    F.append(func(i))"
   ]
  },
  {
   "cell_type": "code",
   "execution_count": 14,
   "id": "e961346a",
   "metadata": {},
   "outputs": [
    {
     "data": {
      "text/plain": [
       "[<matplotlib.lines.Line2D at 0x76df64f03670>]"
      ]
     },
     "execution_count": 14,
     "metadata": {},
     "output_type": "execute_result"
    },
    {
     "data": {
      "image/png": "[encoded data removed]",
      "text/plain": [
       "<Figure size 432x288 with 1 Axes>"
      ]
     },
     "metadata": {
      "needs_background": "light"
     },
     "output_type": "display_data"
    }
   ],
   "source": [
    "import matplotlib.pyplot as plt\n",
    "\n",
    "plt.plot(x,F)"
   ]
  },
  {
   "cell_type": "code",
   "execution_count": 15,
   "id": "528283b9",
   "metadata": {},
   "outputs": [],
   "source": [
    "#L'Hospital rule\n",
    "def fprime(x):\n",
    "    f_p = (np.sin(x))/(2*x)\n",
    "    return f_p"
   ]
  },
  {
   "cell_type": "code",
   "execution_count": 29,
   "id": "332dddc3",
   "metadata": {},
   "outputs": [
    {
     "data": {
      "text/plain": [
       "0.5"
      ]
     },
     "execution_count": 29,
     "metadata": {},
     "output_type": "execute_result"
    }
   ],
   "source": [
    "# verifying x tends to 0\n",
    "y = 0.1*np.linspace(1,100)\n",
    "\n",
    "fprime(1.2e-10)\n",
    "#plt.plot(y,fprime(y))"
   ]
  },
  {
   "cell_type": "code",
   "execution_count": 20,
   "id": "1162c5f0",
   "metadata": {},
   "outputs": [
    {
     "data": {
      "text/plain": [
       "0.0"
      ]
     },
     "execution_count": 20,
     "metadata": {},
     "output_type": "execute_result"
    }
   ],
   "source": [
    "z = 1.2e-10\n",
    "func(z)"
   ]
  },
  {
   "cell_type": "code",
   "execution_count": 21,
   "id": "301dcf10",
   "metadata": {},
   "outputs": [],
   "source": [
    "#    modified function (using cos(2x) = 1 - 2 sin^(x/2))\n",
    "\n",
    "def funz(j):\n",
    "    f_z = (2*(np.sin(j/2))**2)/(j**2)\n",
    "    return f_z"
   ]
  },
  {
   "cell_type": "code",
   "execution_count": 22,
   "id": "02d1c4e4",
   "metadata": {},
   "outputs": [
    {
     "data": {
      "text/plain": [
       "0.5"
      ]
     },
     "execution_count": 22,
     "metadata": {},
     "output_type": "execute_result"
    }
   ],
   "source": [
    "funz(z)"
   ]
  },
  {
   "cell_type": "markdown",
   "id": "52caed0e",
   "metadata": {},
   "source": [
    "## Answer to question 02"
   ]
  },
  {
   "cell_type": "code",
   "execution_count": 23,
   "id": "9c1547d3-acf1-4686-a000-aafe7ba85405",
   "metadata": {
    "scrolled": true
   },
   "outputs": [
    {
     "name": "stdout",
     "output_type": "stream",
     "text": [
      "1 0.09983333333333334 -0.00016666666666666672\n",
      "2 0.09983341666666667 8.333333333333338e-08\n",
      "3 0.09983341664682541 -1.9841269841269856e-11\n",
      "4 0.09983341664682817 2.7557319223985915e-15\n",
      "5 0.09983341664682817 -2.505210838544175e-19\n"
     ]
    },
    {
     "data": {
      "text/plain": [
       "0.09983341664682815"
      ]
     },
     "execution_count": 23,
     "metadata": {},
     "output_type": "execute_result"
    }
   ],
   "source": [
    "def compsin(x):\n",
    "    n = 0\n",
    "    oldsum, newsum, term = 0., x, x\n",
    "    while newsum != oldsum:\n",
    "        oldsum = newsum\n",
    "        n += 1\n",
    "        term *= (-x**2)/((2*n)*(2*n+1)) ## term  = (-x^2)/((2n)(2n+1))\n",
    "        newsum += term\n",
    "        print(n, newsum, term)\n",
    "    return newsum\n",
    "\n",
    "compsin(0.1) # comparision at x = 0.1\n",
    "np.sin(0.1)"
   ]
  },
  {
   "cell_type": "code",
   "execution_count": 24,
   "id": "747cbb74-5f5a-43df-bd34-227393bdd301",
   "metadata": {
    "scrolled": true
   },
   "outputs": [
    {
     "name": "stdout",
     "output_type": "stream",
     "text": [
      "1 -10626.666666666668 -10666.666666666668\n",
      "2 842706.6666666669 853333.3333333335\n",
      "3 -31665229.841269847 -32507936.507936515\n",
      "4 690733359.223986 722398589.0652559\n",
      "5 -9816882481.725191 -10507615840.949177\n",
      "6 97953536399.80484 107770418881.53003\n",
      "7 -723154416983.2811 -821107953383.0859\n",
      "8 4106892367623.1074 4830046784606.389\n",
      "9 -18489817735798.594 -22596710103421.7\n",
      "10 67592887420093.59 86082705155892.19\n",
      "11 -204605389752688.03 -272198277172781.62\n",
      "12 521256682708063.0 725862072460751.0\n",
      "13 -1133129807230970.8 -1654386489939033.8\n",
      "14 2126745049791755.8 3259874857022726.5\n",
      "15 -3481641801000032.0 -5608386850791788.0\n",
      "16 5015914033532980.0 8497555834533012.0\n",
      "17 -6409371122141658.0 -1.1425285155674638e+16\n",
      "18 7314695130920970.0 1.3724066253062628e+16\n",
      "19 -7502110540401704.0 -1.4816805671322674e+16\n",
      "20 6953309626742368.0 1.4455420167144072e+16\n",
      "21 -5853264164747396.0 -1.2806573791489764e+16\n",
      "22 4495482333426150.0 1.0348746498173546e+16\n",
      "23 -3163164473732811.0 -7658646807158961.0\n",
      "24 2046799340661040.0 5209963814393851.0\n",
      "25 -1222197562488043.0 -3268996903149083.0\n",
      "26 675623571415633.5 1897821133903676.5\n",
      "27 -346771652236178.75 -1022395223651812.2\n",
      "28 165707156611847.44 512478808848026.2\n",
      "29 -73908884930187.0 -239616041542034.44\n",
      "30 30841297164691.438 104750182094878.44\n",
      "31 -12067123560297.172 -42908420724988.61\n",
      "32 4436115180083.0625 16503238740380.234\n",
      "33 -1535205938100.6504 -5971321118183.713\n",
      "34 501050197682.3718 2036256135783.0222\n",
      "35 -154484976815.18054 -655535174497.5524\n",
      "36 45069109789.858215 199554086605.03876\n",
      "37 -12459996258.441246 -57529106048.29946\n",
      "38 3269082633.7800713 15729078892.221317\n",
      "39 -815066380.7532144 -4084149014.5332856\n",
      "40 193365474.68710303 1008431855.4403174\n",
      "41 -43703430.50015935 -237068905.1872624\n",
      "42 9421254.135641746 53124684.6358011\n",
      "43 -1939277.1951898169 -11360531.330831563\n",
      "44 381566.79476555856 2320843.9899553754\n",
      "45 -71833.74051265884 -453400.5352782174\n",
      "46 12953.643363585652 84787.3838762445\n",
      "47 -2237.825192068456 -15191.468555654108\n",
      "48 372.3927728205658 2610.217964889022\n",
      "49 -58.0698888803654 -430.4626617009312\n",
      "50 10.122215943544504 68.1921048239099\n",
      "51 -0.26302750955428067 -10.385243453098784\n",
      "52 1.2586198828411457 1.5216473923954263\n",
      "53 1.0439632237128895 -0.21465665912825624\n",
      "54 1.0731384407197881 0.029175217006898572\n",
      "55 1.06931531646008 -0.0038231242597082486\n",
      "56 1.06979864443223 0.00048332797215022103\n",
      "57 1.0697396570366968 -5.898739553320775e-05\n",
      "58 1.0697466110473697 6.954010672939317e-06\n",
      "59 1.0697458186803936 -7.923669759794122e-07\n",
      "60 1.069745905993559 8.73131653971804e-08\n",
      "61 1.0697458966838786 -9.309680436857834e-09\n",
      "62 1.069745897644878 9.60999270901454e-10\n",
      "63 1.06974589754879 -9.608791610063282e-11\n",
      "64 1.0697458975581007 9.310844583394654e-12\n",
      "65 1.0697458975572258 -8.747710706653814e-13\n",
      "66 1.0697458975573055 7.972395266943554e-14\n",
      "67 1.0697458975572984 -7.051316985688052e-15\n",
      "68 1.069745897557299 6.055231417507987e-16\n",
      "69 1.069745897557299 -5.0507612699472316e-17\n"
     ]
    },
    {
     "data": {
      "text/plain": [
       "0.7451131604793488"
      ]
     },
     "execution_count": 24,
     "metadata": {},
     "output_type": "execute_result"
    }
   ],
   "source": [
    "compsin(40) #comparision at x = 40\n",
    "np.sin(40)  # Result does not match"
   ]
  },
  {
   "cell_type": "code",
   "execution_count": 25,
   "id": "e3f8b0bb-ad45-468e-944a-30c1a406f4a4",
   "metadata": {},
   "outputs": [
    {
     "name": "stdout",
     "output_type": "stream",
     "text": [
      "1 0.2707047412662895 -2.030183415656193\n",
      "2 0.8081030527146333 0.5373983114483438\n",
      "3 0.7403641707143054 -0.06773888200032799\n",
      "4 0.7453449413795521 0.00498077066524674\n",
      "5 0.7451052265632299 -0.00023971481632227497\n",
      "6 0.7451133616332783 8.135070048433358e-06\n",
      "7 0.7451131565486927 -2.0508458561771984e-07\n",
      "8 0.7451131605403674 3.9916746222331184e-09\n",
      "9 0.7451131604785771 -6.179026308244966e-11\n",
      "10 0.7451131604793559 7.788642521839429e-13\n",
      "11 0.7451131604793478 -8.148961611371999e-15\n",
      "12 0.745113160479348 7.190217685484731e-17\n",
      "13 0.745113160479348 -5.422454846073261e-19\n"
     ]
    },
    {
     "data": {
      "text/plain": [
       "0.7451131604793488"
      ]
     },
     "execution_count": 25,
     "metadata": {},
     "output_type": "execute_result"
    }
   ],
   "source": [
    "## use of trigonometric identity\n",
    "# sin(x) = sin(2npi+r) = sin(r) , r is some smaller angle than x\n",
    "# r can be obtain using remainder operator\n",
    "\n",
    "r = 40%(2*np.pi)\n",
    "compsin(r)\n",
    "np.sin(40)"
   ]
  },
  {
   "cell_type": "code",
   "execution_count": 31,
   "id": "c3034416-1315-4da1-be02-8d05111ad97c",
   "metadata": {},
   "outputs": [
    {
     "name": "stdout",
     "output_type": "stream",
     "text": [
      "1 -23.436241345773315 -29.020314809875384\n",
      "2 21.809152204920064 45.24539355069338\n",
      "3 -11.782187598459888 -33.59133980337995\n",
      "4 2.7656041740757455 14.547791772535634\n",
      "5 -1.358281695994621 -4.123885870070366\n",
      "6 -0.5339836209645006 0.8242980750301203\n",
      "7 -0.6563796244674226 -0.12239600350292199\n",
      "8 -0.6423482382192369 0.014031386248185696\n",
      "9 -0.6436275509456932 -0.001279312726456368\n",
      "10 -0.6435325714900255 9.497945566775991e-05\n",
      "11 -0.6435384245288638 -5.853038838254415e-06\n",
      "12 -0.6435381203476406 3.0418122321011367e-07\n",
      "13 -0.643538133858953 -1.3511312423510977e-08\n",
      "14 -0.6435381333401007 5.188523087449476e-10\n",
      "15 -0.6435381333574972 -1.7396546869218893e-11\n",
      "16 -0.6435381333569835 5.136903174014354e-13\n",
      "17 -0.6435381333569969 -1.3460359673992736e-14\n",
      "18 -0.6435381333569966 3.1510455882920795e-16\n",
      "19 -0.6435381333569966 -6.629926736186489e-18\n"
     ]
    },
    {
     "data": {
      "text/plain": [
       "-0.6435381333569995"
      ]
     },
     "execution_count": 31,
     "metadata": {},
     "output_type": "execute_result"
    }
   ],
   "source": [
    "# for smaller value \n",
    "compsin(37%(2*np.pi))\n",
    "np.sin(37)"
   ]
  },
  {
   "cell_type": "code",
   "execution_count": null,
   "id": "a9394b33-c568-44f0-8ebe-ed0adcca1b0e",
   "metadata": {},
   "outputs": [],
   "source": []
  }
 ],
 "metadata": {
  "kernelspec": {
   "display_name": "Python 3 (ipykernel)",
   "language": "python",
   "name": "python3"
  },
  "language_info": {
   "codemirror_mode": {
    "name": "ipython",
    "version": 3
   },
   "file_extension": ".py",
   "mimetype": "text/x-python",
   "name": "python",
   "nbconvert_exporter": "python",
   "pygments_lexer": "ipython3",
   "version": "3.9.12"
  }
 },
 "nbformat": 4,
 "nbformat_minor": 5
}
