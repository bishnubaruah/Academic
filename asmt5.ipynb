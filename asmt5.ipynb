{
 "cells": [
  {
   "cell_type": "code",
   "execution_count": 1,
   "id": "c5f58518-0cb2-4c4a-b870-9aeda3d8b8b5",
   "metadata": {},
   "outputs": [],
   "source": [
    "import numpy as np\n",
    "import matplotlib.pyplot as plt"
   ]
  },
  {
   "cell_type": "code",
   "execution_count": 3,
   "id": "83d44853-3bbd-4695-a299-c89ab3991ae1",
   "metadata": {},
   "outputs": [],
   "source": [
    "data2 = np.loadtxt(\"data_asmt5_2.txt\")"
   ]
  },
  {
   "cell_type": "code",
   "execution_count": 5,
   "id": "a13b78ec-2a32-46ba-9256-d73888e07f79",
   "metadata": {},
   "outputs": [
    {
     "data": {
      "text/plain": [
       "0.25"
      ]
     },
     "execution_count": 5,
     "metadata": {},
     "output_type": "execute_result"
    }
   ],
   "source": [
    "data2[0][0]"
   ]
  },
  {
   "cell_type": "code",
   "execution_count": 7,
   "id": "c00886dc-a752-4d11-8fdb-d984c8e04a19",
   "metadata": {},
   "outputs": [],
   "source": [
    "def fn(x):\n",
    "    return a0*(1-np.exp(-a1*x))\n",
    "\n",
    "def fn_prime(x):\n",
    "    return "
   ]
  },
  {
   "cell_type": "code",
   "execution_count": null,
   "id": "2e9b2b8a-77ab-4533-be5a-37c2ab5c6def",
   "metadata": {},
   "outputs": [],
   "source": []
  }
 ],
 "metadata": {
  "kernelspec": {
   "display_name": "Python [conda env:base] *",
   "language": "python",
   "name": "conda-base-py"
  },
  "language_info": {
   "codemirror_mode": {
    "name": "ipython",
    "version": 3
   },
   "file_extension": ".py",
   "mimetype": "text/x-python",
   "name": "python",
   "nbconvert_exporter": "python",
   "pygments_lexer": "ipython3",
   "version": "3.12.7"
  }
 },
 "nbformat": 4,
 "nbformat_minor": 5
}
