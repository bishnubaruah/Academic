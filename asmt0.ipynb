{
 "cells": [
  {
   "cell_type": "code",
   "execution_count": 12,
   "id": "7f034aff",
   "metadata": {},
   "outputs": [],
   "source": [
    "####################################\n",
    "# Assignment No. : 0\n",
    "# Date: 25/07/2025\n",
    "# Name: Bishnu Prasad BAruah\n",
    "# Roll No. : 256121007\n",
    "# Email: b.baruah@iitg.ac.in\n",
    "#####################################"
   ]
  },
  {
   "cell_type": "markdown",
   "id": "b450b534",
   "metadata": {},
   "source": [
    "## Ans to Q no 02"
   ]
  },
  {
   "cell_type": "code",
   "execution_count": 3,
   "id": "954a41a7",
   "metadata": {},
   "outputs": [],
   "source": [
    "import numpy as np\n",
    "def func(x):\n",
    "    y = x + np.sin(x)\n",
    "    return(y)"
   ]
  },
  {
   "cell_type": "code",
   "execution_count": 16,
   "id": "e3d92f19",
   "metadata": {},
   "outputs": [
    {
     "data": {
      "text/plain": [
       "2.909297426825682"
      ]
     },
     "execution_count": 16,
     "metadata": {},
     "output_type": "execute_result"
    }
   ],
   "source": [
    "func(2)  ## works for a number"
   ]
  },
  {
   "cell_type": "code",
   "execution_count": 20,
   "id": "75c03dbd",
   "metadata": {},
   "outputs": [],
   "source": [
    "a = np.array([0,np.pi,6])"
   ]
  },
  {
   "cell_type": "code",
   "execution_count": 21,
   "id": "cd2816a2",
   "metadata": {},
   "outputs": [
    {
     "data": {
      "text/plain": [
       "array([0.        , 3.14159265, 6.        ])"
      ]
     },
     "execution_count": 21,
     "metadata": {},
     "output_type": "execute_result"
    }
   ],
   "source": [
    "a"
   ]
  },
  {
   "cell_type": "code",
   "execution_count": 23,
   "id": "b247930c",
   "metadata": {},
   "outputs": [
    {
     "data": {
      "text/plain": [
       "array([0.        , 3.14159265, 5.7205845 ])"
      ]
     },
     "execution_count": 23,
     "metadata": {},
     "output_type": "execute_result"
    }
   ],
   "source": [
    "func(a) ## works for an array also"
   ]
  },
  {
   "cell_type": "markdown",
   "id": "df857879",
   "metadata": {},
   "source": [
    "## Ans to Q no 3"
   ]
  },
  {
   "cell_type": "code",
   "execution_count": 29,
   "id": "871e493e",
   "metadata": {},
   "outputs": [
    {
     "name": "stdout",
     "output_type": "stream",
     "text": [
      "[-10.          -9.59183673  -9.18367347  -8.7755102   -8.36734694\n",
      "  -7.95918367  -7.55102041  -7.14285714  -6.73469388  -6.32653061\n",
      "  -5.91836735  -5.51020408  -5.10204082  -4.69387755  -4.28571429\n",
      "  -3.87755102  -3.46938776  -3.06122449  -2.65306122  -2.24489796\n",
      "  -1.83673469  -1.42857143  -1.02040816  -0.6122449   -0.20408163\n",
      "   0.20408163   0.6122449    1.02040816   1.42857143   1.83673469\n",
      "   2.24489796   2.65306122   3.06122449   3.46938776   3.87755102\n",
      "   4.28571429   4.69387755   5.10204082   5.51020408   5.91836735\n",
      "   6.32653061   6.73469388   7.14285714   7.55102041   7.95918367\n",
      "   8.36734694   8.7755102    9.18367347   9.59183673  10.        ]\n"
     ]
    }
   ],
   "source": [
    "x = np.linspace(-10,10)\n",
    "print(x)"
   ]
  },
  {
   "cell_type": "code",
   "execution_count": 28,
   "id": "0458f8a7",
   "metadata": {},
   "outputs": [
    {
     "name": "stdout",
     "output_type": "stream",
     "text": [
      "[-9.45597889 -9.42555394 -9.42244879 -9.38011352 -9.23844364 -8.95365504\n",
      " -8.50547761 -7.90048556 -7.1710173  -6.36986235 -5.56158811 -4.81193169\n",
      " -4.17699944 -3.69404888 -3.37536734 -3.20625323 -3.14743144 -3.14150616\n",
      " -3.12239084 -3.02616598 -2.801581   -2.4184745  -1.87272973 -1.18695094\n",
      " -0.40674957  0.40674957  1.18695094  1.87272973  2.4184745   2.801581\n",
      "  3.02616598  3.12239084  3.14150616  3.14743144  3.20625323  3.37536734\n",
      "  3.69404888  4.17699944  4.81193169  5.56158811  6.36986235  7.1710173\n",
      "  7.90048556  8.50547761  8.95365504  9.23844364  9.38011352  9.42244879\n",
      "  9.42555394  9.45597889]\n"
     ]
    }
   ],
   "source": [
    "y = func(x)\n",
    "print(y)"
   ]
  },
  {
   "cell_type": "code",
   "execution_count": 74,
   "id": "ddda7042",
   "metadata": {},
   "outputs": [
    {
     "data": {
      "text/plain": [
       "array([[-10.        ,  -9.45597889],\n",
       "       [ -9.59183673,  -9.42555394],\n",
       "       [ -9.18367347,  -9.42244879],\n",
       "       [ -8.7755102 ,  -9.38011352],\n",
       "       [ -8.36734694,  -9.23844364],\n",
       "       [ -7.95918367,  -8.95365504],\n",
       "       [ -7.55102041,  -8.50547761],\n",
       "       [ -7.14285714,  -7.90048556],\n",
       "       [ -6.73469388,  -7.1710173 ],\n",
       "       [ -6.32653061,  -6.36986235],\n",
       "       [ -5.91836735,  -5.56158811],\n",
       "       [ -5.51020408,  -4.81193169],\n",
       "       [ -5.10204082,  -4.17699944],\n",
       "       [ -4.69387755,  -3.69404888],\n",
       "       [ -4.28571429,  -3.37536734],\n",
       "       [ -3.87755102,  -3.20625323],\n",
       "       [ -3.46938776,  -3.14743144],\n",
       "       [ -3.06122449,  -3.14150616],\n",
       "       [ -2.65306122,  -3.12239084],\n",
       "       [ -2.24489796,  -3.02616598],\n",
       "       [ -1.83673469,  -2.801581  ],\n",
       "       [ -1.42857143,  -2.4184745 ],\n",
       "       [ -1.02040816,  -1.87272973],\n",
       "       [ -0.6122449 ,  -1.18695094],\n",
       "       [ -0.20408163,  -0.40674957],\n",
       "       [  0.20408163,   0.40674957],\n",
       "       [  0.6122449 ,   1.18695094],\n",
       "       [  1.02040816,   1.87272973],\n",
       "       [  1.42857143,   2.4184745 ],\n",
       "       [  1.83673469,   2.801581  ],\n",
       "       [  2.24489796,   3.02616598],\n",
       "       [  2.65306122,   3.12239084],\n",
       "       [  3.06122449,   3.14150616],\n",
       "       [  3.46938776,   3.14743144],\n",
       "       [  3.87755102,   3.20625323],\n",
       "       [  4.28571429,   3.37536734],\n",
       "       [  4.69387755,   3.69404888],\n",
       "       [  5.10204082,   4.17699944],\n",
       "       [  5.51020408,   4.81193169],\n",
       "       [  5.91836735,   5.56158811],\n",
       "       [  6.32653061,   6.36986235],\n",
       "       [  6.73469388,   7.1710173 ],\n",
       "       [  7.14285714,   7.90048556],\n",
       "       [  7.55102041,   8.50547761],\n",
       "       [  7.95918367,   8.95365504],\n",
       "       [  8.36734694,   9.23844364],\n",
       "       [  8.7755102 ,   9.38011352],\n",
       "       [  9.18367347,   9.42244879],\n",
       "       [  9.59183673,   9.42555394],\n",
       "       [ 10.        ,   9.45597889]])"
      ]
     },
     "execution_count": 74,
     "metadata": {},
     "output_type": "execute_result"
    }
   ],
   "source": [
    "Results = np.column_stack((x,y))\n",
    "Results"
   ]
  },
  {
   "cell_type": "code",
   "execution_count": 36,
   "id": "8a66e854",
   "metadata": {},
   "outputs": [],
   "source": [
    "np.savetxt(\"data.dat\", Results, fmt=\"%s\")"
   ]
  },
  {
   "cell_type": "code",
   "execution_count": 52,
   "id": "0be3cac9",
   "metadata": {},
   "outputs": [],
   "source": [
    "loaddata = np.loadtxt(\"data.dat\")\n",
    "#loaddata"
   ]
  },
  {
   "cell_type": "code",
   "execution_count": 40,
   "id": "0ef71e81",
   "metadata": {},
   "outputs": [],
   "source": [
    "import matplotlib.pyplot as plt"
   ]
  },
  {
   "cell_type": "code",
   "execution_count": 57,
   "id": "bee94a36",
   "metadata": {},
   "outputs": [
    {
     "data": {
      "image/png": "[encoded data removed]",
      "text/plain": [
       "<Figure size 432x288 with 1 Axes>"
      ]
     },
     "metadata": {
      "needs_background": "light"
     },
     "output_type": "display_data"
    }
   ],
   "source": [
    "plt.scatter(x,y)\n",
    "plt.savefig(\"scatter_plot.png\")"
   ]
  },
  {
   "cell_type": "markdown",
   "id": "54a1b68f",
   "metadata": {},
   "source": [
    "## Ans to Q no 4"
   ]
  },
  {
   "cell_type": "code",
   "execution_count": 66,
   "id": "a7d3e943",
   "metadata": {},
   "outputs": [],
   "source": [
    "\n",
    "sigma_x = np.array([[0,1],[1,0]])"
   ]
  },
  {
   "cell_type": "code",
   "execution_count": 67,
   "id": "3a0133f5",
   "metadata": {},
   "outputs": [],
   "source": [
    "sigma_y = np.array([[0,-1j],[1j,0]])"
   ]
  },
  {
   "cell_type": "code",
   "execution_count": 68,
   "id": "890719c2",
   "metadata": {},
   "outputs": [],
   "source": [
    "sigma_z = np.array([[1,0],[0,-1]])"
   ]
  },
  {
   "cell_type": "code",
   "execution_count": 69,
   "id": "14e1ef26",
   "metadata": {},
   "outputs": [],
   "source": [
    "A = np.matmul(sigma_x, sigma_y)"
   ]
  },
  {
   "cell_type": "code",
   "execution_count": 70,
   "id": "81bc3779",
   "metadata": {},
   "outputs": [
    {
     "name": "stdout",
     "output_type": "stream",
     "text": [
      "[[0.+1.j 0.+0.j]\n",
      " [0.+0.j 0.-1.j]]\n"
     ]
    }
   ],
   "source": [
    "print(A)"
   ]
  },
  {
   "cell_type": "code",
   "execution_count": 75,
   "id": "4fb52118",
   "metadata": {},
   "outputs": [
    {
     "data": {
      "text/plain": [
       "array([[ 0.+1.j,  0.+0.j],\n",
       "       [ 0.+0.j, -0.-1.j]])"
      ]
     },
     "execution_count": 75,
     "metadata": {},
     "output_type": "execute_result"
    }
   ],
   "source": [
    "1j*sigma_z"
   ]
  },
  {
   "cell_type": "code",
   "execution_count": null,
   "id": "29503a23",
   "metadata": {},
   "outputs": [],
   "source": []
  }
 ],
 "metadata": {
  "kernelspec": {
   "display_name": "Python 3 (ipykernel)",
   "language": "python",
   "name": "python3"
  },
  "language_info": {
   "codemirror_mode": {
    "name": "ipython",
    "version": 3
   },
   "file_extension": ".py",
   "mimetype": "text/x-python",
   "name": "python",
   "nbconvert_exporter": "python",
   "pygments_lexer": "ipython3",
   "version": "3.9.12"
  }
 },
 "nbformat": 4,
 "nbformat_minor": 5
}
