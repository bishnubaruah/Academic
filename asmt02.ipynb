{
 "cells": [
  {
   "cell_type": "code",
   "execution_count": 1,
   "id": "ae409010-f359-4317-ad76-b3a2db3be2bc",
   "metadata": {
    "slideshow": {
     "slide_type": ""
    },
    "tags": []
   },
   "outputs": [],
   "source": [
    "####################################\n",
    "# Assignment No. : 2\n",
    "# Date: 22/09/2025\n",
    "# Name: Bishnu Prasad BAruah\n",
    "# Roll No. : 256121007\n",
    "# Email: b.baruah@iitg.ac.in\n",
    "#####################################"
   ]
  },
  {
   "cell_type": "code",
   "execution_count": 2,
   "id": "c148623f-10b3-4dc6-8666-926b1b6e03fc",
   "metadata": {
    "slideshow": {
     "slide_type": ""
    },
    "tags": []
   },
   "outputs": [
    {
     "data": {
      "text/plain": [
       "[<matplotlib.lines.Line2D at 0x77f4705c0fd0>]"
      ]
     },
     "execution_count": 2,
     "metadata": {},
     "output_type": "execute_result"
    },
    {
     "data": {
      "image/png": "[encoded data removed]",
      "text/plain": [
       "<Figure size 432x288 with 1 Axes>"
      ]
     },
     "metadata": {
      "needs_background": "light"
     },
     "output_type": "display_data"
    }
   ],
   "source": [
    "import numpy as np\n",
    "import matplotlib.pyplot as plt\n",
    "np.set_printoptions(legacy='1.13')\n",
    "\n",
    "\n",
    "def func(x):\n",
    "    return np.exp(x-np.sqrt(x))-x\n",
    "\n",
    "x = np.linspace(0,10,100)\n",
    "y = func(x)\n",
    "\n",
    "\n",
    "##Graphical interpretation\n",
    "\n",
    "plt.axhline(y=0)\n",
    "plt.xlim(0,6)\n",
    "plt.ylim(-3,10)\n",
    "plt.plot(x,y)"
   ]
  },
  {
   "cell_type": "markdown",
   "id": "ff742f1c-e3c9-4f03-8fc9-057871335b1d",
   "metadata": {},
   "source": [
    "## Bisection method"
   ]
  },
  {
   "cell_type": "code",
   "execution_count": 5,
   "id": "951986b3-154c-46a4-a428-13158e6e7d03",
   "metadata": {
    "slideshow": {
     "slide_type": ""
    },
    "tags": []
   },
   "outputs": [],
   "source": [
    "##Bisection\n",
    "def bisection(f,a,b,tol,max):\n",
    "    if f(a)*f(b) > 0:\n",
    "        print(\"wrong guess !\")\n",
    "        m2 = None\n",
    "    else:\n",
    "         for k in range(1,max):\n",
    "             m = (a+b)/2\n",
    "             fm = f(m)\n",
    "             if f(a)*f(m) < 0:\n",
    "                b = m\n",
    "             else:\n",
    "                a = m\n",
    "             m2 = (a+b)/2\n",
    "             dif = abs(m2-m)\n",
    "             rowf = \"{0:2d} {1:1.16f} {2:1.16f} {3:1.16f}\"\n",
    "             print(rowf.format(k,m2,dif,abs(f(m2))))\n",
    "             if dif/m2 <= tol:\n",
    "                 break\n",
    "         else:\n",
    "             m2 = \"Not found!\"\n",
    "    return m2"
   ]
  },
  {
   "cell_type": "code",
   "execution_count": 4,
   "id": "c838807a-a4de-4199-b8ff-34a15a07d4cf",
   "metadata": {
    "scrolled": true
   },
   "outputs": [
    {
     "name": "stdout",
     "output_type": "stream",
     "text": [
      " 1 2.5000000000000000 0.5000000000000000 0.0064343611247093\n",
      " 2 2.2500000000000000 0.2500000000000000 0.1329999833873252\n",
      " 3 2.3750000000000000 0.1250000000000000 0.0727279129400080\n",
      " 4 2.4375000000000000 0.0625000000000000 0.0356230351130975\n",
      " 5 2.4687500000000000 0.0312500000000000 0.0152284404975340\n",
      " 6 2.4843750000000000 0.0156250000000000 0.0045574885289668\n",
      " 7 2.4921875000000000 0.0078125000000000 0.0008980809714481\n",
      " 8 2.4882812500000000 0.0039062500000000 0.0018397620973771\n",
      " 9 2.4902343750000000 0.0019531250000000 0.0004733589489967\n",
      "10 2.4912109375000000 0.0009765625000000 0.0002117309382439\n",
      "11 2.4907226562500000 0.0004882812500000 0.0001309714640327\n",
      "12 2.4909667968750000 0.0002441406250000 0.0000403403649947\n",
      "13 2.4908447265625000 0.0001220703125000 0.0000453253916159\n",
      "14 2.4909057617187500 0.0000610351562500 0.0000024949739510\n",
      "15 2.4909362792968750 0.0000305175781250 0.0000189220803475\n",
      "16 2.4909210205078125 0.0000152587890625 0.0000082133994064\n",
      "17 2.4909133911132812 0.0000076293945312 0.0000028591742800\n",
      "18 2.4909095764160156 0.0000038146972656 0.0000001820905529\n",
      "19 2.4909076690673828 0.0000019073486328 0.0000011564441023\n",
      "20 2.4909086227416992 0.0000009536743164 0.0000004871773758\n",
      "21 2.4909090995788574 0.0000004768371582 0.0000001525435618\n",
      "22 2.4909093379974365 0.0000002384185791 0.0000000147734580\n",
      "23 2.4909092187881470 0.0000001192092896 0.0000000688850612\n",
      "24 2.4909092783927917 0.0000000596046448 0.0000000270558043\n",
      "25 2.4909093081951141 0.0000000298023224 0.0000000061411738\n",
      "26 2.4909093230962753 0.0000000149011612 0.0000000043161417\n",
      "2.4909093230962753\n"
     ]
    }
   ],
   "source": [
    "root = bisection(func,2,4,1.e-8,500)\n",
    "print(root)"
   ]
  },
  {
   "cell_type": "markdown",
   "id": "82ae682f-7257-4138-b6ef-775295806217",
   "metadata": {
    "slideshow": {
     "slide_type": ""
    },
    "tags": []
   },
   "source": [
    "## Newton method"
   ]
  },
  {
   "cell_type": "code",
   "execution_count": 6,
   "id": "2248b597-29c9-4fcf-9977-c81a5949bc09",
   "metadata": {
    "slideshow": {
     "slide_type": ""
    },
    "tags": []
   },
   "outputs": [],
   "source": [
    "def fprime(x):\n",
    "    return np.exp(x-np.sqrt(x))*(1-1/(2*np.sqrt(x)))-1\n",
    "\n",
    "def newton(f,g,x1,kmax,tol):  #x1: initial input\n",
    "    x2 = x1 - (f(x1)/g(x1))\n",
    "    for k in range(1,kmax):\n",
    "        dif = abs(x2-x1)\n",
    "        rowf = \"{0:2d} {1:1.16f} {2:1.16f} {3:1.16f}\"\n",
    "        print(rowf.format(k,x2,dif,abs(f(x2))))\n",
    "        if dif/x2 <= tol:\n",
    "            break\n",
    "        else:\n",
    "            x1 = x2\n",
    "            x3 = x1 - (f(x1)/g(x1))\n",
    "            x2 = x3\n",
    "    return x2"
   ]
  },
  {
   "cell_type": "code",
   "execution_count": 7,
   "id": "a84ec522-4e47-4105-bcb1-b36c6622b201",
   "metadata": {},
   "outputs": [
    {
     "name": "stdout",
     "output_type": "stream",
     "text": [
      " 1 3.2538064174747348 0.7461935825252652 1.0092031343505639\n",
      " 2 2.7689285222400897 0.4848778952346451 0.2500506444263757\n",
      " 3 2.5440303361675585 0.2248981860725312 0.0391689480968136\n",
      " 4 2.4933864964067411 0.0506438397608173 0.0017424873219323\n",
      " 5 2.4909150731673222 0.0024714232394190 0.0000040396146881\n",
      " 6 2.4909093169771714 0.0000057561901508 0.0000000000218860\n",
      " 7 2.4909093169459848 0.0000000000311866 0.0000000000000000\n"
     ]
    },
    {
     "data": {
      "text/plain": [
       "2.4909093169459848"
      ]
     },
     "execution_count": 7,
     "metadata": {},
     "output_type": "execute_result"
    }
   ],
   "source": [
    "newton(func, fprime, 4, 100, 1.e-8 ) #for root1 use :1 as initial input and for root2 use : 4"
   ]
  },
  {
   "cell_type": "markdown",
   "id": "07687a3d-2937-4a41-81cf-a2486f44bbf0",
   "metadata": {},
   "source": [
    "## secant method"
   ]
  },
  {
   "cell_type": "code",
   "execution_count": 11,
   "id": "540701c4-9004-454d-aaa8-0db697d92903",
   "metadata": {},
   "outputs": [],
   "source": [
    "def secant(x1,x2,f,kmax,tol):\n",
    "    x3 = x1 - (f(x1)*(x2-x1))/(f(x2)-f(x1))\n",
    "    for k in range(1,kmax):\n",
    "        dif = abs(x3-x2)\n",
    "        rowf = \"{0:2d} {1:1.16f} {2:1.16f} {3:1.16f} {4:1.16f}\"\n",
    "        print(rowf.format(k,x1,x2,dif,abs(f(x2))))\n",
    "        if dif/x3 < tol:\n",
    "            break\n",
    "        else:\n",
    "            x1 = x2\n",
    "            x2 = x3\n",
    "            x3 = x1 - (f(x1)*(x2-x1))/(f(x2)-f(x1))\n",
    "    return x3"
   ]
  },
  {
   "cell_type": "code",
   "execution_count": 12,
   "id": "497cc7a5-0d9f-45b1-91f2-98364e6d067f",
   "metadata": {},
   "outputs": [
    {
     "name": "stdout",
     "output_type": "stream",
     "text": [
      " 1 2.0000000000000000 3.0000000000000000 0.7311025919255791 0.5535574219903565\n",
      " 2 3.0000000000000000 2.2688974080744209 0.1347058557457221 0.1250299032674773\n",
      " 3 2.2688974080744209 2.4036032638201430 0.1105091593334082 0.0563462620637956\n",
      " 4 2.4036032638201430 2.5141124231535512 0.0251961776271643 0.0166412004268541\n",
      " 5 2.5141124231535512 2.4889162455263869 0.0019501665908019 0.0013960723434452\n",
      " 6 2.4889162455263869 2.4908664121171888 0.0000429854264592 0.0000301084736796\n",
      " 7 2.4908664121171888 2.4909093975436480 0.0000000806009175 0.0000000565617171\n",
      " 8 2.4909093975436480 2.4909093169427305 0.0000000000032547 0.0000000000022840\n"
     ]
    },
    {
     "data": {
      "text/plain": [
       "2.4909093169459853"
      ]
     },
     "execution_count": 12,
     "metadata": {},
     "output_type": "execute_result"
    }
   ],
   "source": [
    "secant(2,3,func,50,1.e-8) #for root1 use these as intial inputs :(1,2) and for root2 use these: (2,3)"
   ]
  },
  {
   "cell_type": "markdown",
   "id": "83c5c502-f0f0-49ba-b423-173dbefd52f2",
   "metadata": {},
   "source": [
    "## optional task"
   ]
  },
  {
   "cell_type": "code",
   "execution_count": 13,
   "id": "4ffd65c3-071f-426b-87bf-9d3765bbc6d0",
   "metadata": {},
   "outputs": [],
   "source": [
    "def u(x):\n",
    "    return (func(x))/(x-root)"
   ]
  },
  {
   "cell_type": "code",
   "execution_count": 14,
   "id": "5eabc6e3-4518-4c94-8244-e033ac232c25",
   "metadata": {},
   "outputs": [],
   "source": [
    "def uprime(x):\n",
    "    return ((x-root)*fprime(x) - func(x))/(x - root)"
   ]
  },
  {
   "cell_type": "code",
   "execution_count": 15,
   "id": "37d1f1c7-314f-40f5-911e-f7249388587b",
   "metadata": {},
   "outputs": [
    {
     "name": "stdout",
     "output_type": "stream",
     "text": [
      " 1 1.0000000000000000 0.0000000000000000 0.0000000000000000\n"
     ]
    },
    {
     "data": {
      "text/plain": [
       "1.0"
      ]
     },
     "execution_count": 15,
     "metadata": {},
     "output_type": "execute_result"
    }
   ],
   "source": [
    "newton(u,uprime,1,200,1.e-8)"
   ]
  },
  {
   "cell_type": "code",
   "execution_count": 17,
   "id": "716f76d7-6798-4952-8239-0b4835cd08c5",
   "metadata": {},
   "outputs": [
    {
     "name": "stdout",
     "output_type": "stream",
     "text": [
      " 1 0.0000000000000000 1.5000000000000000 0.4728515161587465 0.1848134772519863\n",
      " 2 1.5000000000000000 1.0271484838412535 0.0246225222382321 0.0091473596656932\n",
      " 3 1.0271484838412535 1.0025259616030213 0.0025141667334410 0.0008474868615811\n",
      " 4 1.0025259616030213 1.0000117948695804 0.0000117897796108 0.0000039556038552\n",
      " 5 1.0000117948695804 1.0000000050899696 0.0000000050899591 0.0000000017070017\n"
     ]
    },
    {
     "data": {
      "text/plain": [
       "1.0000000000000104"
      ]
     },
     "execution_count": 17,
     "metadata": {},
     "output_type": "execute_result"
    }
   ],
   "source": [
    "secant(0,1.5,u,200,1.e-8)"
   ]
  },
  {
   "cell_type": "code",
   "execution_count": null,
   "id": "0c8e2a1f",
   "metadata": {},
   "outputs": [],
   "source": []
  }
 ],
 "metadata": {
  "kernelspec": {
   "display_name": "Python 3 (ipykernel)",
   "language": "python",
   "name": "python3"
  },
  "language_info": {
   "codemirror_mode": {
    "name": "ipython",
    "version": 3
   },
   "file_extension": ".py",
   "mimetype": "text/x-python",
   "name": "python",
   "nbconvert_exporter": "python",
   "pygments_lexer": "ipython3",
   "version": "3.9.12"
  }
 },
 "nbformat": 4,
 "nbformat_minor": 5
}
