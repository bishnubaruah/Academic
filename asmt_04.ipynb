{
  "metadata": {
    "kernelspec": {
      "name": "python",
      "display_name": "Python (Pyodide)",
      "language": "python"
    },
    "language_info": {
      "codemirror_mode": {
        "name": "python",
        "version": 3
      },
      "file_extension": ".py",
      "mimetype": "text/x-python",
      "name": "python",
      "nbconvert_exporter": "python",
      "pygments_lexer": "ipython3",
      "version": "3.8"
    }
  },
  "nbformat_minor": 5,
  "nbformat": 4,
  "cells": [
    {
      "id": "a45e026f-663b-4893-8f05-1be277d5be1e",
      "cell_type": "markdown",
      "source": "####################################\n# Assignment No. : 4\n# Date: 00/09/2025\n# Name: Bishnu Prasad Baruah\n# Roll No. : 256121007\n# Email: b.baruah@iitg.ac.in\n#####################################",
      "metadata": {}
    },
    {
      "id": "dd4eafa2",
      "cell_type": "code",
      "source": "import numpy as np\nnp.set_printoptions(legacy='1.13')\nmatrix_A = np.array([[4,1,2],\n                     [1,3,0],\n                     [2,0,5]], dtype = float)",
      "metadata": {
        "trusted": true
      },
      "outputs": [],
      "execution_count": 7
    },
    {
      "id": "2a39d1eb",
      "cell_type": "code",
      "source": "v1 = np.array([[1],[1],[1]])             #==========initial guess vector",
      "metadata": {
        "trusted": true
      },
      "outputs": [],
      "execution_count": 8
    },
    {
      "id": "968df2a4",
      "cell_type": "code",
      "source": "def power(a,b,c):                        #==========a = matrix, b = initial guess, c = tolerance\n    \n    A = np.copy(a)\n    q_0 = (b)/(np.linalg.norm(b))\n    \n    z_k = np.matmul(A,q_0)               ##===========Finding the new vector\n    q_k = (z_k)/(np.linalg.norm(z_k))    ##===========Normalizing the new vector\n    \n    for i in range(len(q_k)):\n        stop = (abs(q_k[i] - q_0[i])/abs(q_k[i]))    #===========stop check\n    \n    while stop > c:\n        \n        z_k = np.matmul(A,q_0)\n        q_k = (z_k)/(np.linalg.norm(z_k))    #Finding the next vector\n        \n        #==================stop check=================\n        stop = 0\n        for i in range(len(q_k)):\n            stop += (abs(q_k[i] - q_0[i])/abs(q_k[i]))\n\n        if stop <= c:\n            break\n        #=============================================\n        \n        q_0 = q_k\n        \n    e = np.matmul((q_0.T),(np.matmul(A,q_0)))    #eigen value calculation\n    \n    return q_0,e",
      "metadata": {
        "trusted": true
      },
      "outputs": [],
      "execution_count": 9
    },
    {
      "id": "e5d954ff",
      "cell_type": "code",
      "source": "dominant_vector,dominant_eigen_value = power(matrix_A,v1,1.0e-10)",
      "metadata": {
        "trusted": true
      },
      "outputs": [],
      "execution_count": 10
    },
    {
      "id": "fe29a8c2",
      "cell_type": "code",
      "source": "dominant_vector",
      "metadata": {
        "trusted": true
      },
      "outputs": [
        {
          "execution_count": 11,
          "output_type": "execute_result",
          "data": {
            "text/plain": "array([[ 0.63117897],\n       [ 0.17202654],\n       [ 0.75632002]])"
          },
          "metadata": {}
        }
      ],
      "execution_count": 11
    },
    {
      "id": "98766f61",
      "cell_type": "code",
      "source": "dominant_eigen_value",
      "metadata": {
        "trusted": true
      },
      "outputs": [
        {
          "execution_count": 12,
          "output_type": "execute_result",
          "data": {
            "text/plain": "array([[ 6.66907909]])"
          },
          "metadata": {}
        }
      ],
      "execution_count": 12
    },
    {
      "id": "5063176c",
      "cell_type": "markdown",
      "source": "## Inverse power method",
      "metadata": {}
    },
    {
      "id": "f1a144e8-4559-424a-95f6-82c841de4cb2",
      "cell_type": "code",
      "source": "#finding inverse using LU decomposition",
      "metadata": {
        "trusted": true
      },
      "outputs": [],
      "execution_count": 13
    },
    {
      "id": "af293935-c54d-4dc4-b910-88ae5cd76c17",
      "cell_type": "code",
      "source": "##===----------inverse matrix creation==========\ndef inverse(m):\n    A = np.copy(m)\n    n = len(A)\n\n    ####-============--UPPER TRIANGULAR-&-LOWER TRIANGULAR=============-####\n    L = np.identity(n)  ##-----------identity matrix------------###\n    \n    for k in range(n-1): #row iteration\n        for i in range(k+1,n): #column iteration\n            factor = (A[i][k])/(A[k][k])\n            \n            L[i][k] = factor   \n            for j in range(n):  #all column iteration\n                A[i][j] = A[i][j] - factor*A[k][j]  #i = row, j = column\n    U = A\n    #return L,U\n    ###=====================================================###\n\n\n    \n    inv = np.zeros((n,n),dtype = float)  ##---==EMPTY INVERSE MATRIX----\n\n    ##---Creation of a matrix that contains columns of identity matrix as elements\n    v = []\n    matrix = np.identity(n)\n    for i in range(n):\n        B = np.reshape(matrix[:,i],(n,1))\n        v.append(B)\n    BB =  v   \n    #======-------------------===================-----------------==========\n    \n    for k in range(n):     \n        B = BB[k]      ##-<<==----====== SELECT A NEW COLUMN FOR EACH K ====---###\n        \n        ##----===========CREATION OF D MATRIX FOR EACH COLUMN==============----##\n        D = np.zeros((n,1),dtype = float)\n        count = 0\n        for i in range(n):\n            dog = B[i]\n            if count >0:\n                cat = 0\n                for j in range(i):\n                    cat = cat + L[i][j]*D[j]\n                    #print(cat)\n                dog = B[i] - cat\n            D[i] = dog\n            count = count + 1\n        ##----========----====================================------=====----##\n\n        \n        ##----======CREATION OF COLUMN OF INVERSE MATRIX--USING---UX=D---====###\n        #===========-----------backward_substitution(U,D)\n        a,b = np.copy(U), np.copy(D)\n        n=len(a)\n        x = np.zeros((n,1), dtype = float)\n        x[n-1] = (b[n-1])/(a[n-1][n-1])\n        for i in range(n-2,-1,-1):\n            sum = b[i]\n            for j in range(i+1,n):\n                sum = sum - a[i][j]*x[j]\n            x[i] = sum/a[i][i]\n        third =  x\n        ##----========----=====================================------=====----##\n\n        \n        inv[:,k] = third.T   #[:,2] == : means all rows, column 2 => all rows of coumn 2\n    return inv            # since it select all rows of a particular column, the input must be a row matrix to replace the \n                                 #elements of that column ==> so taking transpose\n",
      "metadata": {
        "trusted": true
      },
      "outputs": [],
      "execution_count": 14
    },
    {
      "id": "565b2e6e-f6bc-4d4a-9ff8-93e6b6008f0a",
      "cell_type": "code",
      "source": "B = inverse(matrix_A)\nB",
      "metadata": {
        "trusted": true
      },
      "outputs": [
        {
          "execution_count": 27,
          "output_type": "execute_result",
          "data": {
            "text/plain": "array([[ 0.34883721, -0.11627907, -0.13953488],\n       [-0.11627907,  0.37209302,  0.04651163],\n       [-0.13953488,  0.04651163,  0.25581395]])"
          },
          "metadata": {}
        }
      ],
      "execution_count": 27
    },
    {
      "id": "172c7654-e450-490b-b8d1-565c94a4c9e5",
      "cell_type": "code",
      "source": "eigen_vector, dominant_eigen_value_B = power(B,v1,1e-20)\nsmallest_eigen_value = 1/(dominant_eigen_value_B)\n\nsmallest_eigen_value",
      "metadata": {
        "trusted": true
      },
      "outputs": [
        {
          "execution_count": 16,
          "output_type": "execute_result",
          "data": {
            "text/plain": "array([[ 1.85489731]])"
          },
          "metadata": {}
        }
      ],
      "execution_count": 16
    },
    {
      "id": "0267bf2e-d582-4704-9d94-577e21a95275",
      "cell_type": "code",
      "source": "eigen_vector",
      "metadata": {
        "trusted": true
      },
      "outputs": [
        {
          "execution_count": 17,
          "output_type": "execute_result",
          "data": {
            "text/plain": "array([[-0.67931306],\n       [ 0.59323331],\n       [ 0.43198148]])"
          },
          "metadata": {}
        }
      ],
      "execution_count": 17
    },
    {
      "id": "1868db62-2593-4ee9-ae76-551570ff718b",
      "cell_type": "code",
      "source": "#1. first do the LU decomposition of A \n#2. LY = q_0 | find Y \n#3. UZ_k = Y | use backward substitution to find Z_k \n#4. q_k = normalization of Z_k ",
      "metadata": {
        "trusted": true
      },
      "outputs": [],
      "execution_count": 18
    },
    {
      "id": "19be64f5-abfd-4bf5-aa70-2643ad0a3e4e",
      "cell_type": "code",
      "source": "def L_U_decomp(c):\n    A = np.copy(c)\n    n = len(A)\n    \n    ####-============--UPPER TRIANGULAR-&-LOWER TRIANGULAR=============-####\n    L = np.identity(n)  ##-----------identity matrix------------###\n    \n    for k in range(n-1): #row iteration\n        for i in range(k+1,n): #column iteration\n            factor = (A[i][k])/(A[k][k])\n            \n            L[i][k] = factor   \n            for j in range(n):  #all column iteration\n                A[i][j] = A[i][j] - factor*A[k][j]  #i = row, j = column\n    U = A\n    return L,U\n",
      "metadata": {
        "trusted": true
      },
      "outputs": [],
      "execution_count": 19
    },
    {
      "id": "df916786-3d73-42fa-a8a0-cda59552c17d",
      "cell_type": "code",
      "source": "def forwardsubs(a,b):  ##---Ly=B------\n    L = np.copy(a)\n    B = np.copy(b)\n    n = len(L)\n    y = np.zeros((n,1),dtype = float)\n    count = 0\n    for i in range(n):\n        dog = B[i]\n        if count >0:\n            cat = 0\n            for j in range(i):\n                cat = cat + L[i][j]*y[j]\n                #print(cat)\n            dog = B[i] - cat\n        y[i] = dog\n        count = count + 1\n    return y",
      "metadata": {
        "trusted": true
      },
      "outputs": [],
      "execution_count": 20
    },
    {
      "id": "dbef8f59-0e37-4cc0-a83e-1ca449528696",
      "cell_type": "code",
      "source": "##--========--- USE OF UX=D TO EVALUATE X-----==========##\ndef backward_substitution(c,d):\n    a,b = np.copy(c), np.copy(d)\n    n=len(a)\n    x = np.zeros((n,1), dtype = float)\n    x[n-1] = (b[n-1])/(a[n-1][n-1])\n    for i in range(n-2,-1,-1):\n        sum = b[i]\n        for j in range(i+1,n):\n            sum = sum - a[i][j]*x[j]\n        x[i] = sum/a[i][i]\n    return x\n\n",
      "metadata": {
        "trusted": true
      },
      "outputs": [],
      "execution_count": 21
    },
    {
      "id": "fd2b7c14-c5b8-40ab-ad41-9eaf3774b8ff",
      "cell_type": "code",
      "source": "def inv_power(a,b,tol):\n    A,v = np.copy(a), np.copy(b)\n\n    L,U = L_U_decomp(A)\n    q_0 = (v)/(np.linalg.norm(v))\n\n    y = forwardsubs(L,q_0)\n    z = backward_substitution(U,y)\n\n    q_k = (z)/(np.linalg.norm(z))\n    \n    stop = 0\n    for i in range(len(q_k)):\n        stop += (abs(q_k[i] - q_0[i])/abs(q_k[i]))\n\n    while stop > tol:\n        y = forwardsubs(L,q_0)\n        z = backward_substitution(U,y)\n\n        q_k = (z)/(np.linalg.norm(z))\n\n        stop = 0\n        for i in range(len(q_k)):\n            stop += (abs(q_k[i] - q_0[i])/abs(q_k[i]))\n\n        if stop <= tol:\n            break\n\n        q_0 = q_k\n        \n    e = np.matmul((q_0.T),(np.matmul(A,q_0)))    #eigen value calculation\n    #lam = np.matmul(q_0.T, z)\n    #e = 1.0 / lam\n    return q_0,e",
      "metadata": {
        "trusted": true
      },
      "outputs": [],
      "execution_count": 22
    },
    {
      "id": "f8bc8bbd-1710-48ff-9dc8-1f923aeac231",
      "cell_type": "code",
      "source": "vector,value = inv_power(matrix_A,v1,1.0e-10)",
      "metadata": {
        "trusted": true
      },
      "outputs": [],
      "execution_count": 24
    },
    {
      "id": "14a358a2-5c49-4d21-bad7-20a4236a8116",
      "cell_type": "code",
      "source": "vector",
      "metadata": {
        "trusted": true
      },
      "outputs": [
        {
          "execution_count": 25,
          "output_type": "execute_result",
          "data": {
            "text/plain": "array([[-0.67931306],\n       [ 0.59323331],\n       [ 0.43198148]])"
          },
          "metadata": {}
        }
      ],
      "execution_count": 25
    },
    {
      "id": "b6d0db84-2496-4c6d-90e8-d35c0953f0be",
      "cell_type": "code",
      "source": "value",
      "metadata": {
        "trusted": true
      },
      "outputs": [
        {
          "execution_count": 26,
          "output_type": "execute_result",
          "data": {
            "text/plain": "array([[ 1.85489731]])"
          },
          "metadata": {}
        }
      ],
      "execution_count": 26
    },
    {
      "id": "6d2a4d6c-3b70-4972-b1ec-058cdae1ff8f",
      "cell_type": "code",
      "source": "",
      "metadata": {
        "trusted": true
      },
      "outputs": [],
      "execution_count": null
    }
  ]
}